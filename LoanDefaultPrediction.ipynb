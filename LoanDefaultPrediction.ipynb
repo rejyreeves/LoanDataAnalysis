{
 "cells": [
  {
   "cell_type": "markdown",
   "id": "4f8de894-3403-4d4f-956b-f26950d097c4",
   "metadata": {},
   "source": [
    "<h1>Home Loan Data Analysis<h1>"
   ]
  },
  {
   "cell_type": "markdown",
   "id": "f8f4f9eb-b97f-49e3-b619-e38e3bc0715b",
   "metadata": {},
   "source": [
    "<h3>1)\n",
    "Load the dataset that is given to you<h3>"
   ]
  },
  {
   "cell_type": "code",
   "execution_count": 1,
   "id": "8863c284-2b54-4ac2-9f48-8ee8a81afe6a",
   "metadata": {},
   "outputs": [
    {
     "data": {
      "text/html": [
       "<div>\n",
       "<style scoped>\n",
       "    .dataframe tbody tr th:only-of-type {\n",
       "        vertical-align: middle;\n",
       "    }\n",
       "\n",
       "    .dataframe tbody tr th {\n",
       "        vertical-align: top;\n",
       "    }\n",
       "\n",
       "    .dataframe thead th {\n",
       "        text-align: right;\n",
       "    }\n",
       "</style>\n",
       "<table border=\"1\" class=\"dataframe\">\n",
       "  <thead>\n",
       "    <tr style=\"text-align: right;\">\n",
       "      <th></th>\n",
       "      <th>SK_ID_CURR</th>\n",
       "      <th>TARGET</th>\n",
       "      <th>NAME_CONTRACT_TYPE</th>\n",
       "      <th>CODE_GENDER</th>\n",
       "      <th>FLAG_OWN_CAR</th>\n",
       "      <th>FLAG_OWN_REALTY</th>\n",
       "      <th>CNT_CHILDREN</th>\n",
       "      <th>AMT_INCOME_TOTAL</th>\n",
       "      <th>AMT_CREDIT</th>\n",
       "      <th>AMT_ANNUITY</th>\n",
       "      <th>...</th>\n",
       "      <th>FLAG_DOCUMENT_18</th>\n",
       "      <th>FLAG_DOCUMENT_19</th>\n",
       "      <th>FLAG_DOCUMENT_20</th>\n",
       "      <th>FLAG_DOCUMENT_21</th>\n",
       "      <th>AMT_REQ_CREDIT_BUREAU_HOUR</th>\n",
       "      <th>AMT_REQ_CREDIT_BUREAU_DAY</th>\n",
       "      <th>AMT_REQ_CREDIT_BUREAU_WEEK</th>\n",
       "      <th>AMT_REQ_CREDIT_BUREAU_MON</th>\n",
       "      <th>AMT_REQ_CREDIT_BUREAU_QRT</th>\n",
       "      <th>AMT_REQ_CREDIT_BUREAU_YEAR</th>\n",
       "    </tr>\n",
       "  </thead>\n",
       "  <tbody>\n",
       "    <tr>\n",
       "      <th>0</th>\n",
       "      <td>100002</td>\n",
       "      <td>1</td>\n",
       "      <td>Cash loans</td>\n",
       "      <td>M</td>\n",
       "      <td>N</td>\n",
       "      <td>Y</td>\n",
       "      <td>0</td>\n",
       "      <td>202500.0</td>\n",
       "      <td>406597.5</td>\n",
       "      <td>24700.5</td>\n",
       "      <td>...</td>\n",
       "      <td>0.0</td>\n",
       "      <td>0.0</td>\n",
       "      <td>0.0</td>\n",
       "      <td>0.0</td>\n",
       "      <td>0.0</td>\n",
       "      <td>0.0</td>\n",
       "      <td>0.0</td>\n",
       "      <td>0.0</td>\n",
       "      <td>0.0</td>\n",
       "      <td>1.0</td>\n",
       "    </tr>\n",
       "    <tr>\n",
       "      <th>1</th>\n",
       "      <td>100003</td>\n",
       "      <td>0</td>\n",
       "      <td>Cash loans</td>\n",
       "      <td>F</td>\n",
       "      <td>N</td>\n",
       "      <td>N</td>\n",
       "      <td>0</td>\n",
       "      <td>270000.0</td>\n",
       "      <td>1293502.5</td>\n",
       "      <td>35698.5</td>\n",
       "      <td>...</td>\n",
       "      <td>0.0</td>\n",
       "      <td>0.0</td>\n",
       "      <td>0.0</td>\n",
       "      <td>0.0</td>\n",
       "      <td>0.0</td>\n",
       "      <td>0.0</td>\n",
       "      <td>0.0</td>\n",
       "      <td>0.0</td>\n",
       "      <td>0.0</td>\n",
       "      <td>0.0</td>\n",
       "    </tr>\n",
       "    <tr>\n",
       "      <th>2</th>\n",
       "      <td>100004</td>\n",
       "      <td>0</td>\n",
       "      <td>Revolving loans</td>\n",
       "      <td>M</td>\n",
       "      <td>Y</td>\n",
       "      <td>Y</td>\n",
       "      <td>0</td>\n",
       "      <td>67500.0</td>\n",
       "      <td>135000.0</td>\n",
       "      <td>6750.0</td>\n",
       "      <td>...</td>\n",
       "      <td>0.0</td>\n",
       "      <td>0.0</td>\n",
       "      <td>0.0</td>\n",
       "      <td>0.0</td>\n",
       "      <td>0.0</td>\n",
       "      <td>0.0</td>\n",
       "      <td>0.0</td>\n",
       "      <td>0.0</td>\n",
       "      <td>0.0</td>\n",
       "      <td>0.0</td>\n",
       "    </tr>\n",
       "    <tr>\n",
       "      <th>3</th>\n",
       "      <td>100006</td>\n",
       "      <td>0</td>\n",
       "      <td>Cash loans</td>\n",
       "      <td>F</td>\n",
       "      <td>N</td>\n",
       "      <td>Y</td>\n",
       "      <td>0</td>\n",
       "      <td>135000.0</td>\n",
       "      <td>312682.5</td>\n",
       "      <td>29686.5</td>\n",
       "      <td>...</td>\n",
       "      <td>0.0</td>\n",
       "      <td>0.0</td>\n",
       "      <td>0.0</td>\n",
       "      <td>0.0</td>\n",
       "      <td>NaN</td>\n",
       "      <td>NaN</td>\n",
       "      <td>NaN</td>\n",
       "      <td>NaN</td>\n",
       "      <td>NaN</td>\n",
       "      <td>NaN</td>\n",
       "    </tr>\n",
       "    <tr>\n",
       "      <th>4</th>\n",
       "      <td>100007</td>\n",
       "      <td>0</td>\n",
       "      <td>Cash loans</td>\n",
       "      <td>M</td>\n",
       "      <td>N</td>\n",
       "      <td>Y</td>\n",
       "      <td>0</td>\n",
       "      <td>121500.0</td>\n",
       "      <td>513000.0</td>\n",
       "      <td>21865.5</td>\n",
       "      <td>...</td>\n",
       "      <td>0.0</td>\n",
       "      <td>0.0</td>\n",
       "      <td>0.0</td>\n",
       "      <td>0.0</td>\n",
       "      <td>0.0</td>\n",
       "      <td>0.0</td>\n",
       "      <td>0.0</td>\n",
       "      <td>0.0</td>\n",
       "      <td>0.0</td>\n",
       "      <td>0.0</td>\n",
       "    </tr>\n",
       "  </tbody>\n",
       "</table>\n",
       "<p>5 rows × 122 columns</p>\n",
       "</div>"
      ],
      "text/plain": [
       "   SK_ID_CURR  TARGET NAME_CONTRACT_TYPE CODE_GENDER FLAG_OWN_CAR  \\\n",
       "0      100002       1         Cash loans           M            N   \n",
       "1      100003       0         Cash loans           F            N   \n",
       "2      100004       0    Revolving loans           M            Y   \n",
       "3      100006       0         Cash loans           F            N   \n",
       "4      100007       0         Cash loans           M            N   \n",
       "\n",
       "  FLAG_OWN_REALTY  CNT_CHILDREN  AMT_INCOME_TOTAL  AMT_CREDIT  AMT_ANNUITY  \\\n",
       "0               Y             0          202500.0    406597.5      24700.5   \n",
       "1               N             0          270000.0   1293502.5      35698.5   \n",
       "2               Y             0           67500.0    135000.0       6750.0   \n",
       "3               Y             0          135000.0    312682.5      29686.5   \n",
       "4               Y             0          121500.0    513000.0      21865.5   \n",
       "\n",
       "   ...  FLAG_DOCUMENT_18 FLAG_DOCUMENT_19 FLAG_DOCUMENT_20 FLAG_DOCUMENT_21  \\\n",
       "0  ...               0.0              0.0              0.0              0.0   \n",
       "1  ...               0.0              0.0              0.0              0.0   \n",
       "2  ...               0.0              0.0              0.0              0.0   \n",
       "3  ...               0.0              0.0              0.0              0.0   \n",
       "4  ...               0.0              0.0              0.0              0.0   \n",
       "\n",
       "  AMT_REQ_CREDIT_BUREAU_HOUR AMT_REQ_CREDIT_BUREAU_DAY  \\\n",
       "0                        0.0                       0.0   \n",
       "1                        0.0                       0.0   \n",
       "2                        0.0                       0.0   \n",
       "3                        NaN                       NaN   \n",
       "4                        0.0                       0.0   \n",
       "\n",
       "   AMT_REQ_CREDIT_BUREAU_WEEK  AMT_REQ_CREDIT_BUREAU_MON  \\\n",
       "0                         0.0                        0.0   \n",
       "1                         0.0                        0.0   \n",
       "2                         0.0                        0.0   \n",
       "3                         NaN                        NaN   \n",
       "4                         0.0                        0.0   \n",
       "\n",
       "   AMT_REQ_CREDIT_BUREAU_QRT  AMT_REQ_CREDIT_BUREAU_YEAR  \n",
       "0                        0.0                         1.0  \n",
       "1                        0.0                         0.0  \n",
       "2                        0.0                         0.0  \n",
       "3                        NaN                         NaN  \n",
       "4                        0.0                         0.0  \n",
       "\n",
       "[5 rows x 122 columns]"
      ]
     },
     "execution_count": 1,
     "metadata": {},
     "output_type": "execute_result"
    }
   ],
   "source": [
    "import pandas as pd\n",
    "# Load the dataset\n",
    "loan_data = pd.read_csv('loan_data.csv')\n",
    "loan_data.head()"
   ]
  },
  {
   "cell_type": "code",
   "execution_count": 2,
   "id": "9d6064e9-1d34-4472-8591-7f115e8d61a2",
   "metadata": {},
   "outputs": [
    {
     "data": {
      "text/html": [
       "<div>\n",
       "<style scoped>\n",
       "    .dataframe tbody tr th:only-of-type {\n",
       "        vertical-align: middle;\n",
       "    }\n",
       "\n",
       "    .dataframe tbody tr th {\n",
       "        vertical-align: top;\n",
       "    }\n",
       "\n",
       "    .dataframe thead th {\n",
       "        text-align: right;\n",
       "    }\n",
       "</style>\n",
       "<table border=\"1\" class=\"dataframe\">\n",
       "  <thead>\n",
       "    <tr style=\"text-align: right;\">\n",
       "      <th></th>\n",
       "      <th>SK_ID_CURR</th>\n",
       "      <th>TARGET</th>\n",
       "      <th>NAME_CONTRACT_TYPE</th>\n",
       "      <th>CODE_GENDER</th>\n",
       "      <th>FLAG_OWN_CAR</th>\n",
       "      <th>FLAG_OWN_REALTY</th>\n",
       "      <th>CNT_CHILDREN</th>\n",
       "      <th>AMT_INCOME_TOTAL</th>\n",
       "      <th>AMT_CREDIT</th>\n",
       "      <th>AMT_ANNUITY</th>\n",
       "      <th>...</th>\n",
       "      <th>FLAG_DOCUMENT_18</th>\n",
       "      <th>FLAG_DOCUMENT_19</th>\n",
       "      <th>FLAG_DOCUMENT_20</th>\n",
       "      <th>FLAG_DOCUMENT_21</th>\n",
       "      <th>AMT_REQ_CREDIT_BUREAU_HOUR</th>\n",
       "      <th>AMT_REQ_CREDIT_BUREAU_DAY</th>\n",
       "      <th>AMT_REQ_CREDIT_BUREAU_WEEK</th>\n",
       "      <th>AMT_REQ_CREDIT_BUREAU_MON</th>\n",
       "      <th>AMT_REQ_CREDIT_BUREAU_QRT</th>\n",
       "      <th>AMT_REQ_CREDIT_BUREAU_YEAR</th>\n",
       "    </tr>\n",
       "  </thead>\n",
       "  <tbody>\n",
       "    <tr>\n",
       "      <th>34954</th>\n",
       "      <td>140501</td>\n",
       "      <td>0</td>\n",
       "      <td>Cash loans</td>\n",
       "      <td>F</td>\n",
       "      <td>N</td>\n",
       "      <td>Y</td>\n",
       "      <td>1</td>\n",
       "      <td>202500.0</td>\n",
       "      <td>900000.0</td>\n",
       "      <td>57649.5</td>\n",
       "      <td>...</td>\n",
       "      <td>0.0</td>\n",
       "      <td>0.0</td>\n",
       "      <td>0.0</td>\n",
       "      <td>0.0</td>\n",
       "      <td>0.0</td>\n",
       "      <td>0.0</td>\n",
       "      <td>0.0</td>\n",
       "      <td>0.0</td>\n",
       "      <td>0.0</td>\n",
       "      <td>1.0</td>\n",
       "    </tr>\n",
       "    <tr>\n",
       "      <th>34955</th>\n",
       "      <td>140502</td>\n",
       "      <td>1</td>\n",
       "      <td>Cash loans</td>\n",
       "      <td>M</td>\n",
       "      <td>Y</td>\n",
       "      <td>Y</td>\n",
       "      <td>2</td>\n",
       "      <td>202500.0</td>\n",
       "      <td>755190.0</td>\n",
       "      <td>38740.5</td>\n",
       "      <td>...</td>\n",
       "      <td>0.0</td>\n",
       "      <td>0.0</td>\n",
       "      <td>0.0</td>\n",
       "      <td>0.0</td>\n",
       "      <td>0.0</td>\n",
       "      <td>0.0</td>\n",
       "      <td>0.0</td>\n",
       "      <td>0.0</td>\n",
       "      <td>0.0</td>\n",
       "      <td>2.0</td>\n",
       "    </tr>\n",
       "    <tr>\n",
       "      <th>34956</th>\n",
       "      <td>140503</td>\n",
       "      <td>0</td>\n",
       "      <td>Cash loans</td>\n",
       "      <td>F</td>\n",
       "      <td>N</td>\n",
       "      <td>Y</td>\n",
       "      <td>0</td>\n",
       "      <td>202500.0</td>\n",
       "      <td>755190.0</td>\n",
       "      <td>33394.5</td>\n",
       "      <td>...</td>\n",
       "      <td>0.0</td>\n",
       "      <td>0.0</td>\n",
       "      <td>0.0</td>\n",
       "      <td>0.0</td>\n",
       "      <td>0.0</td>\n",
       "      <td>0.0</td>\n",
       "      <td>0.0</td>\n",
       "      <td>0.0</td>\n",
       "      <td>2.0</td>\n",
       "      <td>6.0</td>\n",
       "    </tr>\n",
       "    <tr>\n",
       "      <th>34957</th>\n",
       "      <td>140505</td>\n",
       "      <td>0</td>\n",
       "      <td>Revolving loans</td>\n",
       "      <td>F</td>\n",
       "      <td>N</td>\n",
       "      <td>N</td>\n",
       "      <td>1</td>\n",
       "      <td>135000.0</td>\n",
       "      <td>135000.0</td>\n",
       "      <td>6750.0</td>\n",
       "      <td>...</td>\n",
       "      <td>0.0</td>\n",
       "      <td>0.0</td>\n",
       "      <td>0.0</td>\n",
       "      <td>0.0</td>\n",
       "      <td>0.0</td>\n",
       "      <td>0.0</td>\n",
       "      <td>0.0</td>\n",
       "      <td>0.0</td>\n",
       "      <td>0.0</td>\n",
       "      <td>9.0</td>\n",
       "    </tr>\n",
       "    <tr>\n",
       "      <th>34958</th>\n",
       "      <td>140506</td>\n",
       "      <td>0</td>\n",
       "      <td>Cash loans</td>\n",
       "      <td>F</td>\n",
       "      <td>N</td>\n",
       "      <td>Y</td>\n",
       "      <td>1</td>\n",
       "      <td>90000.0</td>\n",
       "      <td>781920.0</td>\n",
       "      <td>28215.0</td>\n",
       "      <td>...</td>\n",
       "      <td>NaN</td>\n",
       "      <td>NaN</td>\n",
       "      <td>NaN</td>\n",
       "      <td>NaN</td>\n",
       "      <td>NaN</td>\n",
       "      <td>NaN</td>\n",
       "      <td>NaN</td>\n",
       "      <td>NaN</td>\n",
       "      <td>NaN</td>\n",
       "      <td>NaN</td>\n",
       "    </tr>\n",
       "  </tbody>\n",
       "</table>\n",
       "<p>5 rows × 122 columns</p>\n",
       "</div>"
      ],
      "text/plain": [
       "       SK_ID_CURR  TARGET NAME_CONTRACT_TYPE CODE_GENDER FLAG_OWN_CAR  \\\n",
       "34954      140501       0         Cash loans           F            N   \n",
       "34955      140502       1         Cash loans           M            Y   \n",
       "34956      140503       0         Cash loans           F            N   \n",
       "34957      140505       0    Revolving loans           F            N   \n",
       "34958      140506       0         Cash loans           F            N   \n",
       "\n",
       "      FLAG_OWN_REALTY  CNT_CHILDREN  AMT_INCOME_TOTAL  AMT_CREDIT  \\\n",
       "34954               Y             1          202500.0    900000.0   \n",
       "34955               Y             2          202500.0    755190.0   \n",
       "34956               Y             0          202500.0    755190.0   \n",
       "34957               N             1          135000.0    135000.0   \n",
       "34958               Y             1           90000.0    781920.0   \n",
       "\n",
       "       AMT_ANNUITY  ...  FLAG_DOCUMENT_18 FLAG_DOCUMENT_19 FLAG_DOCUMENT_20  \\\n",
       "34954      57649.5  ...               0.0              0.0              0.0   \n",
       "34955      38740.5  ...               0.0              0.0              0.0   \n",
       "34956      33394.5  ...               0.0              0.0              0.0   \n",
       "34957       6750.0  ...               0.0              0.0              0.0   \n",
       "34958      28215.0  ...               NaN              NaN              NaN   \n",
       "\n",
       "      FLAG_DOCUMENT_21 AMT_REQ_CREDIT_BUREAU_HOUR AMT_REQ_CREDIT_BUREAU_DAY  \\\n",
       "34954              0.0                        0.0                       0.0   \n",
       "34955              0.0                        0.0                       0.0   \n",
       "34956              0.0                        0.0                       0.0   \n",
       "34957              0.0                        0.0                       0.0   \n",
       "34958              NaN                        NaN                       NaN   \n",
       "\n",
       "       AMT_REQ_CREDIT_BUREAU_WEEK  AMT_REQ_CREDIT_BUREAU_MON  \\\n",
       "34954                         0.0                        0.0   \n",
       "34955                         0.0                        0.0   \n",
       "34956                         0.0                        0.0   \n",
       "34957                         0.0                        0.0   \n",
       "34958                         NaN                        NaN   \n",
       "\n",
       "       AMT_REQ_CREDIT_BUREAU_QRT  AMT_REQ_CREDIT_BUREAU_YEAR  \n",
       "34954                        0.0                         1.0  \n",
       "34955                        0.0                         2.0  \n",
       "34956                        2.0                         6.0  \n",
       "34957                        0.0                         9.0  \n",
       "34958                        NaN                         NaN  \n",
       "\n",
       "[5 rows x 122 columns]"
      ]
     },
     "execution_count": 2,
     "metadata": {},
     "output_type": "execute_result"
    }
   ],
   "source": [
    "loan_data.tail()"
   ]
  },
  {
   "cell_type": "code",
   "execution_count": 3,
   "id": "9f083ca5-62d7-4883-a8c7-9ba37c05e5a0",
   "metadata": {},
   "outputs": [
    {
     "data": {
      "text/plain": [
       "(34959, 122)"
      ]
     },
     "execution_count": 3,
     "metadata": {},
     "output_type": "execute_result"
    }
   ],
   "source": [
    "loan_data.shape"
   ]
  },
  {
   "cell_type": "code",
   "execution_count": 4,
   "id": "b0ce4697-4153-467c-8695-77c74145683e",
   "metadata": {},
   "outputs": [
    {
     "data": {
      "text/plain": [
       "<bound method DataFrame.info of        SK_ID_CURR  TARGET NAME_CONTRACT_TYPE CODE_GENDER FLAG_OWN_CAR  \\\n",
       "0          100002       1         Cash loans           M            N   \n",
       "1          100003       0         Cash loans           F            N   \n",
       "2          100004       0    Revolving loans           M            Y   \n",
       "3          100006       0         Cash loans           F            N   \n",
       "4          100007       0         Cash loans           M            N   \n",
       "...           ...     ...                ...         ...          ...   \n",
       "34954      140501       0         Cash loans           F            N   \n",
       "34955      140502       1         Cash loans           M            Y   \n",
       "34956      140503       0         Cash loans           F            N   \n",
       "34957      140505       0    Revolving loans           F            N   \n",
       "34958      140506       0         Cash loans           F            N   \n",
       "\n",
       "      FLAG_OWN_REALTY  CNT_CHILDREN  AMT_INCOME_TOTAL  AMT_CREDIT  \\\n",
       "0                   Y             0          202500.0    406597.5   \n",
       "1                   N             0          270000.0   1293502.5   \n",
       "2                   Y             0           67500.0    135000.0   \n",
       "3                   Y             0          135000.0    312682.5   \n",
       "4                   Y             0          121500.0    513000.0   \n",
       "...               ...           ...               ...         ...   \n",
       "34954               Y             1          202500.0    900000.0   \n",
       "34955               Y             2          202500.0    755190.0   \n",
       "34956               Y             0          202500.0    755190.0   \n",
       "34957               N             1          135000.0    135000.0   \n",
       "34958               Y             1           90000.0    781920.0   \n",
       "\n",
       "       AMT_ANNUITY  ...  FLAG_DOCUMENT_18 FLAG_DOCUMENT_19 FLAG_DOCUMENT_20  \\\n",
       "0          24700.5  ...               0.0              0.0              0.0   \n",
       "1          35698.5  ...               0.0              0.0              0.0   \n",
       "2           6750.0  ...               0.0              0.0              0.0   \n",
       "3          29686.5  ...               0.0              0.0              0.0   \n",
       "4          21865.5  ...               0.0              0.0              0.0   \n",
       "...            ...  ...               ...              ...              ...   \n",
       "34954      57649.5  ...               0.0              0.0              0.0   \n",
       "34955      38740.5  ...               0.0              0.0              0.0   \n",
       "34956      33394.5  ...               0.0              0.0              0.0   \n",
       "34957       6750.0  ...               0.0              0.0              0.0   \n",
       "34958      28215.0  ...               NaN              NaN              NaN   \n",
       "\n",
       "      FLAG_DOCUMENT_21 AMT_REQ_CREDIT_BUREAU_HOUR AMT_REQ_CREDIT_BUREAU_DAY  \\\n",
       "0                  0.0                        0.0                       0.0   \n",
       "1                  0.0                        0.0                       0.0   \n",
       "2                  0.0                        0.0                       0.0   \n",
       "3                  0.0                        NaN                       NaN   \n",
       "4                  0.0                        0.0                       0.0   \n",
       "...                ...                        ...                       ...   \n",
       "34954              0.0                        0.0                       0.0   \n",
       "34955              0.0                        0.0                       0.0   \n",
       "34956              0.0                        0.0                       0.0   \n",
       "34957              0.0                        0.0                       0.0   \n",
       "34958              NaN                        NaN                       NaN   \n",
       "\n",
       "       AMT_REQ_CREDIT_BUREAU_WEEK  AMT_REQ_CREDIT_BUREAU_MON  \\\n",
       "0                             0.0                        0.0   \n",
       "1                             0.0                        0.0   \n",
       "2                             0.0                        0.0   \n",
       "3                             NaN                        NaN   \n",
       "4                             0.0                        0.0   \n",
       "...                           ...                        ...   \n",
       "34954                         0.0                        0.0   \n",
       "34955                         0.0                        0.0   \n",
       "34956                         0.0                        0.0   \n",
       "34957                         0.0                        0.0   \n",
       "34958                         NaN                        NaN   \n",
       "\n",
       "       AMT_REQ_CREDIT_BUREAU_QRT  AMT_REQ_CREDIT_BUREAU_YEAR  \n",
       "0                            0.0                         1.0  \n",
       "1                            0.0                         0.0  \n",
       "2                            0.0                         0.0  \n",
       "3                            NaN                         NaN  \n",
       "4                            0.0                         0.0  \n",
       "...                          ...                         ...  \n",
       "34954                        0.0                         1.0  \n",
       "34955                        0.0                         2.0  \n",
       "34956                        2.0                         6.0  \n",
       "34957                        0.0                         9.0  \n",
       "34958                        NaN                         NaN  \n",
       "\n",
       "[34959 rows x 122 columns]>"
      ]
     },
     "execution_count": 4,
     "metadata": {},
     "output_type": "execute_result"
    }
   ],
   "source": [
    "loan_data.info"
   ]
  },
  {
   "cell_type": "code",
   "execution_count": 5,
   "id": "1f336d92-2e3a-4b05-bb8f-1f267e971f0a",
   "metadata": {},
   "outputs": [
    {
     "data": {
      "text/plain": [
       "<bound method NDFrame.describe of        SK_ID_CURR  TARGET NAME_CONTRACT_TYPE CODE_GENDER FLAG_OWN_CAR  \\\n",
       "0          100002       1         Cash loans           M            N   \n",
       "1          100003       0         Cash loans           F            N   \n",
       "2          100004       0    Revolving loans           M            Y   \n",
       "3          100006       0         Cash loans           F            N   \n",
       "4          100007       0         Cash loans           M            N   \n",
       "...           ...     ...                ...         ...          ...   \n",
       "34954      140501       0         Cash loans           F            N   \n",
       "34955      140502       1         Cash loans           M            Y   \n",
       "34956      140503       0         Cash loans           F            N   \n",
       "34957      140505       0    Revolving loans           F            N   \n",
       "34958      140506       0         Cash loans           F            N   \n",
       "\n",
       "      FLAG_OWN_REALTY  CNT_CHILDREN  AMT_INCOME_TOTAL  AMT_CREDIT  \\\n",
       "0                   Y             0          202500.0    406597.5   \n",
       "1                   N             0          270000.0   1293502.5   \n",
       "2                   Y             0           67500.0    135000.0   \n",
       "3                   Y             0          135000.0    312682.5   \n",
       "4                   Y             0          121500.0    513000.0   \n",
       "...               ...           ...               ...         ...   \n",
       "34954               Y             1          202500.0    900000.0   \n",
       "34955               Y             2          202500.0    755190.0   \n",
       "34956               Y             0          202500.0    755190.0   \n",
       "34957               N             1          135000.0    135000.0   \n",
       "34958               Y             1           90000.0    781920.0   \n",
       "\n",
       "       AMT_ANNUITY  ...  FLAG_DOCUMENT_18 FLAG_DOCUMENT_19 FLAG_DOCUMENT_20  \\\n",
       "0          24700.5  ...               0.0              0.0              0.0   \n",
       "1          35698.5  ...               0.0              0.0              0.0   \n",
       "2           6750.0  ...               0.0              0.0              0.0   \n",
       "3          29686.5  ...               0.0              0.0              0.0   \n",
       "4          21865.5  ...               0.0              0.0              0.0   \n",
       "...            ...  ...               ...              ...              ...   \n",
       "34954      57649.5  ...               0.0              0.0              0.0   \n",
       "34955      38740.5  ...               0.0              0.0              0.0   \n",
       "34956      33394.5  ...               0.0              0.0              0.0   \n",
       "34957       6750.0  ...               0.0              0.0              0.0   \n",
       "34958      28215.0  ...               NaN              NaN              NaN   \n",
       "\n",
       "      FLAG_DOCUMENT_21 AMT_REQ_CREDIT_BUREAU_HOUR AMT_REQ_CREDIT_BUREAU_DAY  \\\n",
       "0                  0.0                        0.0                       0.0   \n",
       "1                  0.0                        0.0                       0.0   \n",
       "2                  0.0                        0.0                       0.0   \n",
       "3                  0.0                        NaN                       NaN   \n",
       "4                  0.0                        0.0                       0.0   \n",
       "...                ...                        ...                       ...   \n",
       "34954              0.0                        0.0                       0.0   \n",
       "34955              0.0                        0.0                       0.0   \n",
       "34956              0.0                        0.0                       0.0   \n",
       "34957              0.0                        0.0                       0.0   \n",
       "34958              NaN                        NaN                       NaN   \n",
       "\n",
       "       AMT_REQ_CREDIT_BUREAU_WEEK  AMT_REQ_CREDIT_BUREAU_MON  \\\n",
       "0                             0.0                        0.0   \n",
       "1                             0.0                        0.0   \n",
       "2                             0.0                        0.0   \n",
       "3                             NaN                        NaN   \n",
       "4                             0.0                        0.0   \n",
       "...                           ...                        ...   \n",
       "34954                         0.0                        0.0   \n",
       "34955                         0.0                        0.0   \n",
       "34956                         0.0                        0.0   \n",
       "34957                         0.0                        0.0   \n",
       "34958                         NaN                        NaN   \n",
       "\n",
       "       AMT_REQ_CREDIT_BUREAU_QRT  AMT_REQ_CREDIT_BUREAU_YEAR  \n",
       "0                            0.0                         1.0  \n",
       "1                            0.0                         0.0  \n",
       "2                            0.0                         0.0  \n",
       "3                            NaN                         NaN  \n",
       "4                            0.0                         0.0  \n",
       "...                          ...                         ...  \n",
       "34954                        0.0                         1.0  \n",
       "34955                        0.0                         2.0  \n",
       "34956                        2.0                         6.0  \n",
       "34957                        0.0                         9.0  \n",
       "34958                        NaN                         NaN  \n",
       "\n",
       "[34959 rows x 122 columns]>"
      ]
     },
     "execution_count": 5,
     "metadata": {},
     "output_type": "execute_result"
    }
   ],
   "source": [
    "loan_data.describe"
   ]
  },
  {
   "cell_type": "markdown",
   "id": "9f099bb1-d810-426b-a177-82b0b6b2ff82",
   "metadata": {},
   "source": [
    "<h3>2) Check for null values in the dataset<h3>"
   ]
  },
  {
   "cell_type": "code",
   "execution_count": 6,
   "id": "1d4e513b-3bd5-44da-9bf4-fdd285d1363b",
   "metadata": {},
   "outputs": [
    {
     "name": "stdout",
     "output_type": "stream",
     "text": [
      "SK_ID_CURR                       0\n",
      "TARGET                           0\n",
      "NAME_CONTRACT_TYPE               0\n",
      "CODE_GENDER                      0\n",
      "FLAG_OWN_CAR                     0\n",
      "                              ... \n",
      "AMT_REQ_CREDIT_BUREAU_DAY     4720\n",
      "AMT_REQ_CREDIT_BUREAU_WEEK    4720\n",
      "AMT_REQ_CREDIT_BUREAU_MON     4720\n",
      "AMT_REQ_CREDIT_BUREAU_QRT     4720\n",
      "AMT_REQ_CREDIT_BUREAU_YEAR    4720\n",
      "Length: 122, dtype: int64\n"
     ]
    },
    {
     "name": "stderr",
     "output_type": "stream",
     "text": [
      "/tmp/ipykernel_185/14453812.py:4: FutureWarning: The default value of numeric_only in DataFrame.mean is deprecated. In a future version, it will default to False. In addition, specifying 'numeric_only=None' is deprecated. Select only valid columns or specify the value of numeric_only to silence this warning.\n",
      "  loan_data.fillna(loan_data.mean(), inplace=True)  # Simple imputation, you can adjust this depending on your data\n"
     ]
    }
   ],
   "source": [
    "# Check for null values\n",
    "print(loan_data.isnull().sum())\n",
    "# Handle missing values (e.g., with imputation)\n",
    "loan_data.fillna(loan_data.mean(), inplace=True)  # Simple imputation, you can adjust this depending on your data"
   ]
  },
  {
   "cell_type": "code",
   "execution_count": 7,
   "id": "654912a2-28e1-460e-bee1-574e65d09a3d",
   "metadata": {},
   "outputs": [
    {
     "name": "stdout",
     "output_type": "stream",
     "text": [
      "Index(['NAME_CONTRACT_TYPE', 'CODE_GENDER', 'FLAG_OWN_CAR', 'FLAG_OWN_REALTY',\n",
      "       'NAME_TYPE_SUITE', 'NAME_INCOME_TYPE', 'NAME_EDUCATION_TYPE',\n",
      "       'NAME_FAMILY_STATUS', 'NAME_HOUSING_TYPE', 'OCCUPATION_TYPE',\n",
      "       'WEEKDAY_APPR_PROCESS_START', 'ORGANIZATION_TYPE', 'FONDKAPREMONT_MODE',\n",
      "       'HOUSETYPE_MODE', 'WALLSMATERIAL_MODE', 'EMERGENCYSTATE_MODE'],\n",
      "      dtype='object')\n",
      "SK_ID_CURR                    0\n",
      "TARGET                        0\n",
      "NAME_CONTRACT_TYPE            0\n",
      "CODE_GENDER                   0\n",
      "FLAG_OWN_CAR                  0\n",
      "                             ..\n",
      "AMT_REQ_CREDIT_BUREAU_DAY     0\n",
      "AMT_REQ_CREDIT_BUREAU_WEEK    0\n",
      "AMT_REQ_CREDIT_BUREAU_MON     0\n",
      "AMT_REQ_CREDIT_BUREAU_QRT     0\n",
      "AMT_REQ_CREDIT_BUREAU_YEAR    0\n",
      "Length: 122, dtype: int64\n"
     ]
    }
   ],
   "source": [
    "# Identify categorical columns\n",
    "categorical_cols = loan_data.select_dtypes(include=['object']).columns\n",
    "print(categorical_cols)\n",
    "# Handle numerical columns with median imputation\n",
    "for col in loan_data.select_dtypes(include=['float64', 'int64']).columns:\n",
    "    loan_data[col].fillna(loan_data[col].median(), inplace=True)\n",
    "# Handle categorical columns with mode imputation\n",
    "for col in categorical_cols:\n",
    "    loan_data[col].fillna(loan_data[col].mode()[0], inplace=True)\n",
    "# Check if any NaN values remain\n",
    "print(loan_data.isnull().sum())"
   ]
  },
  {
   "cell_type": "markdown",
   "id": "523739aa-5374-4e29-a59e-3cbe299d83de",
   "metadata": {},
   "source": [
    "<h3>3)\n",
    "Print the percentage of default to a payer of the dataset for the TARGET column<h3>"
   ]
  },
  {
   "cell_type": "code",
   "execution_count": 8,
   "id": "409dc119-2b28-4965-a5dd-3191167699a4",
   "metadata": {},
   "outputs": [
    {
     "name": "stdout",
     "output_type": "stream",
     "text": [
      "Percentage of default in dataset:\n",
      "0    91.927687\n",
      "1     8.072313\n",
      "Name: TARGET, dtype: float64\n"
     ]
    }
   ],
   "source": [
    "# Calculate and print the percentage of default (assuming target column is named 'default')\n",
    "default_percentage = loan_data['TARGET'].value_counts(normalize=True) * 100\n",
    "print(f'Percentage of default in dataset:\\n{default_percentage}')"
   ]
  },
  {
   "cell_type": "markdown",
   "id": "edc824f0-2ca0-41be-a16f-3328cb06e3f7",
   "metadata": {},
   "source": [
    "<h3>4)\n",
    "Balance the dataset if the data is imbalanced<h3>"
   ]
  },
  {
   "cell_type": "code",
   "execution_count": 9,
   "id": "a1787de7-e984-456e-a58a-567a8cd26e2c",
   "metadata": {},
   "outputs": [],
   "source": [
    "# One-hot encode categorical features\n",
    "X = loan_data.drop('TARGET', axis=1)  \n",
    "y = loan_data['TARGET']\n",
    "# One-hot encode the categorical columns\n",
    "X_encoded = pd.get_dummies(X, columns=categorical_cols)"
   ]
  },
  {
   "cell_type": "code",
   "execution_count": 10,
   "id": "3b0f57eb-e0e5-4c23-b028-2de6c2d3e133",
   "metadata": {},
   "outputs": [],
   "source": [
    "from sklearn.preprocessing import StandardScaler\n",
    "from sklearn.model_selection import train_test_split\n",
    "# Split the data into 80% training and 20% testing\n",
    "X_train, X_test, y_train, y_test = train_test_split(X_encoded, y, test_size=0.2, random_state=42)\n",
    "# Scale the data\n",
    "scaler = StandardScaler()\n",
    "X_train_scaled = scaler.fit_transform(X_train)\n",
    "X_test_scaled = scaler.transform(X_test)"
   ]
  },
  {
   "cell_type": "code",
   "execution_count": 11,
   "id": "a7c33c05-07fa-4e72-83cf-a04b33a8082d",
   "metadata": {},
   "outputs": [],
   "source": [
    "# Upsampling the train data using smote technique\n",
    "from imblearn.over_sampling import SMOTE\n",
    "smote = SMOTE(random_state =123)\n",
    "X_smote_train,y_smote_train = smote.fit_resample(X_train_scaled,y_train)"
   ]
  },
  {
   "cell_type": "markdown",
   "id": "2579df6e-6c3e-43b4-b709-bd36c6ab072e",
   "metadata": {},
   "source": [
    "<h3>5)\n",
    "Plot the balanced or imbalanced data<h3>"
   ]
  },
  {
   "cell_type": "code",
   "execution_count": 12,
   "id": "5ca08b95-da17-4be8-add9-e1b7b084c393",
   "metadata": {},
   "outputs": [
    {
     "data": {
      "image/png": "[encoded data removed]",
      "text/plain": [
       "<Figure size 576x432 with 1 Axes>"
      ]
     },
     "metadata": {
      "needs_background": "light"
     },
     "output_type": "display_data"
    }
   ],
   "source": [
    "import matplotlib.pyplot as plt\n",
    "import seaborn as sns\n",
    "\n",
    "\n",
    "plt.figure(figsize=(8, 6))\n",
    "\n",
    "# Count plot to visualize the distribution of the target variable\n",
    "sns.countplot(x='TARGET', data=loan_data) \n",
    "\n",
    "# Add labels and title\n",
    "plt.title('Distribution of Loan Status (Default vs Non-Default)')\n",
    "plt.xlabel('DEFAULT')\n",
    "plt.ylabel('Count')\n",
    "\n",
    "# Show plot\n",
    "plt.show()"
   ]
  },
  {
   "cell_type": "code",
   "execution_count": 13,
   "id": "2da2f47b-4a66-4af9-8bca-d4a3e4b60c96",
   "metadata": {},
   "outputs": [
    {
     "data": {
      "image/png": "[encoded data removed]",
      "text/plain": [
       "<Figure size 432x288 with 1 Axes>"
      ]
     },
     "metadata": {
      "needs_background": "light"
     },
     "output_type": "display_data"
    }
   ],
   "source": [
    "# univariate analysis\n",
    "\n",
    "sns.histplot(loan_data['TARGET'], kde=True)\n",
    "plt.show()\n"
   ]
  },
  {
   "cell_type": "markdown",
   "id": "b4b734ba-810c-4fa3-bfd4-4841a259f4b8",
   "metadata": {},
   "source": [
    "<h3>6)\n",
    "Encode the columns that are required for the model<h3>"
   ]
  },
  {
   "cell_type": "code",
   "execution_count": 14,
   "id": "7bd5f1e2-e978-4021-9e2c-31cd9be0619e",
   "metadata": {},
   "outputs": [],
   "source": [
    "# One-hot encode categorical features\n",
    "X = loan_data.drop('TARGET', axis=1)  \n",
    "y = loan_data['TARGET']\n",
    "# One-hot encode the categorical columns\n",
    "X_encoded = pd.get_dummies(X, columns=categorical_cols)"
   ]
  },
  {
   "cell_type": "code",
   "execution_count": 15,
   "id": "6abe369f-8d73-4aa9-8013-beb6fb59951a",
   "metadata": {},
   "outputs": [
    {
     "name": "stdout",
     "output_type": "stream",
     "text": [
      "Class weights: {0: 0.5436185514908837, 1: 6.23150623885918}\n"
     ]
    }
   ],
   "source": [
    "import numpy as np\n",
    "from sklearn.utils.class_weight import compute_class_weight\n",
    "# Convert classes to numpy array\n",
    "classes = np.array([0, 1])\n",
    "# Compute class weights\n",
    "class_weights = compute_class_weight(class_weight='balanced', classes=classes, y=y_train)\n",
    "# Create a dictionary for class weights\n",
    "class_weights_dict = {0: class_weights[0], 1: class_weights[1]}\n",
    "print(f'Class weights: {class_weights_dict}')"
   ]
  },
  {
   "cell_type": "code",
   "execution_count": 16,
   "id": "31b7b719-6e31-4fe7-b922-54817330e44f",
   "metadata": {},
   "outputs": [
    {
     "name": "stderr",
     "output_type": "stream",
     "text": [
      "2024-11-07 14:20:30.038091: I tensorflow/core/util/port.cc:110] oneDNN custom operations are on. You may see slightly different numerical results due to floating-point round-off errors from different computation orders. To turn them off, set the environment variable `TF_ENABLE_ONEDNN_OPTS=0`.\n",
      "2024-11-07 14:20:31.134222: I tensorflow/core/platform/cpu_feature_guard.cc:182] This TensorFlow binary is optimized to use available CPU instructions in performance-critical operations.\n",
      "To enable the following instructions: AVX2 AVX512F AVX512_VNNI FMA, in other operations, rebuild TensorFlow with the appropriate compiler flags.\n"
     ]
    },
    {
     "name": "stdout",
     "output_type": "stream",
     "text": [
      "VOC-NOTICE: GPU memory for this assignment is capped at 1024MiB\n"
     ]
    },
    {
     "name": "stderr",
     "output_type": "stream",
     "text": [
      "2024-11-07 14:20:36.989429: E tensorflow/compiler/xla/stream_executor/cuda/cuda_driver.cc:268] failed call to cuInit: CUDA_ERROR_NO_DEVICE: no CUDA-capable device is detected\n",
      "/tmp/ipykernel_185/1528871276.py:21: FutureWarning: The default value of numeric_only in DataFrame.mean is deprecated. In a future version, it will default to False. In addition, specifying 'numeric_only=None' is deprecated. Select only valid columns or specify the value of numeric_only to silence this warning.\n",
      "  loan_data.fillna(loan_data.mean(), inplace=True)  # Simple imputation, you can adjust this depending on your data\n"
     ]
    },
    {
     "name": "stdout",
     "output_type": "stream",
     "text": [
      "Class weights: {0: 0.5436185514908837, 1: 6.23150623885918}\n"
     ]
    }
   ],
   "source": [
    "import pandas as pd\n",
    "from sklearn.preprocessing import StandardScaler\n",
    "from sklearn.model_selection import train_test_split\n",
    "import numpy as np\n",
    "import matplotlib.pyplot as plt\n",
    "import seaborn as sns\n",
    "from sklearn.utils.class_weight import compute_class_weight\n",
    "from imblearn.over_sampling import SMOTE\n",
    "from keras.models import Sequential\n",
    "from keras.layers import Dense\n",
    "from keras.callbacks import EarlyStopping, ModelCheckpoint, ReduceLROnPlateau\n",
    "from keras.optimizers import SGD\n",
    "from tensorflow.keras.optimizers import SGD, Adam, RMSprop, Adagrad, Adadelta\n",
    "\n",
    "# Load the dataset\n",
    "\n",
    "loan_data = pd.read_csv('loan_data.csv')\n",
    "\n",
    "# Handle missing values (e.g., with imputation)\n",
    "\n",
    "loan_data.fillna(loan_data.mean(), inplace=True)  # Simple imputation, you can adjust this depending on your data\n",
    "\n",
    "# Identify categorical columns\n",
    "\n",
    "categorical_cols = loan_data.select_dtypes(include=['object']).columns\n",
    "\n",
    "# Handle numerical columns with median imputation\n",
    "\n",
    "for col in loan_data.select_dtypes(include=['float64', 'int64']).columns:\n",
    "    loan_data[col].fillna(loan_data[col].median(), inplace=True)\n",
    "    \n",
    "# Handle categorical columns with mode imputation\n",
    "for col in categorical_cols:\n",
    "    loan_data[col].fillna(loan_data[col].mode()[0], inplace=True)\n",
    "    \n",
    "# One-hot encode categorical features\n",
    "\n",
    "X = loan_data.drop('TARGET', axis=1)  \n",
    "y = loan_data['TARGET']\n",
    "\n",
    "# One-hot encode the categorical columns\n",
    "\n",
    "X_encoded = pd.get_dummies(X, columns=categorical_cols)\n",
    "\n",
    "\n",
    "# Split the data into 80% training and 20% testing\n",
    "X_train, X_test, y_train, y_test = train_test_split(X_encoded, y, test_size=0.2, random_state=42)\n",
    "# Scale the data\n",
    "scaler = StandardScaler()\n",
    "X_train_scaled = scaler.fit_transform(X_train)\n",
    "X_test_scaled = scaler.transform(X_test)\n",
    "\n",
    "# Convert classes to numpy array\n",
    "classes = np.array([0, 1])\n",
    "# Compute class weights\n",
    "class_weights = compute_class_weight(class_weight='balanced', classes=classes, y=y_train)\n",
    "# Create a dictionary for class weights\n",
    "class_weights_dict = {0: class_weights[0], 1: class_weights[1]}\n",
    "print(f'Class weights: {class_weights_dict}')\n",
    "\n",
    "# Upsampling the train data using smote technique\n",
    "\n",
    "smote = SMOTE(random_state =123)\n",
    "X_smote_train,y_smote_train = smote.fit_resample(X_train_scaled,y_train)\n",
    "\n",
    "# Define the neural network model\n",
    "model = Sequential()\n",
    "\n",
    "# Input layer and first hidden layer\n",
    "model.add(Dense(256, activation='relu', input_dim=X_train_scaled.shape[1]))\n",
    "\n",
    "# Add more hidden layers as necessary\n",
    "model.add(Dense(128, activation='relu'))\n",
    "model.add(Dense(64, activation='relu'))\n",
    "model.add(Dense(32, activation='relu'))\n",
    "model.add(Dense(16, activation='relu'))\n",
    "\n",
    "# Output layer (for binary classification)\n",
    "model.add(Dense(1, activation='sigmoid'))\n",
    "\n",
    "# Callbacks\n",
    "early_stopping = EarlyStopping(\n",
    "    monitor = \"val_loss\",\n",
    "    min_delta = 0.001,\n",
    "    patience = 20,\n",
    "    verbose = 1,\n",
    "    mode = \"auto\",\n",
    "    # baseline=None,\n",
    "    restore_best_weights=False\n",
    "    # start_from_epoch=0,\n",
    ")\n",
    "early_stopping = EarlyStopping(monitor='val_loss', patience=5, restore_best_weights=True)\n",
    "# model_checkpoint = ModelCheckpoint(filepath='best_model.h5', save_best_only=True, monitor='val_loss', mode='min')  # No parentheses after 'min'\n",
    "reduce_lr = ReduceLROnPlateau(monitor='val_loss', factor=0.5, patience=5, min_lr=0.00001)\n"
   ]
  },
  {
   "cell_type": "code",
   "execution_count": 17,
   "id": "98aad3df-8c44-4b4b-b7cb-fe8cd87c0180",
   "metadata": {},
   "outputs": [
    {
     "name": "stdout",
     "output_type": "stream",
     "text": [
      "Epoch 1/50\n",
      "1608/1608 [==============================] - 4s 2ms/step - loss: 0.7096 - recall: 0.9909 - accuracy: 0.6151 - val_loss: 1.1735 - val_recall: 0.7872 - val_accuracy: 0.4743\n",
      "Epoch 2/50\n",
      "1608/1608 [==============================] - 3s 2ms/step - loss: 0.4331 - recall: 0.9921 - accuracy: 0.7874 - val_loss: 1.2408 - val_recall: 0.6592 - val_accuracy: 0.5744\n",
      "Epoch 3/50\n",
      "1608/1608 [==============================] - 3s 2ms/step - loss: 0.2891 - recall: 0.9939 - accuracy: 0.8671 - val_loss: 0.8930 - val_recall: 0.4965 - val_accuracy: 0.7015\n",
      "Epoch 4/50\n",
      "1608/1608 [==============================] - 3s 2ms/step - loss: 0.2252 - recall: 0.9953 - accuracy: 0.8989 - val_loss: 0.8050 - val_recall: 0.3997 - val_accuracy: 0.7533\n",
      "Epoch 5/50\n",
      "1608/1608 [==============================] - 3s 2ms/step - loss: 0.1816 - recall: 0.9960 - accuracy: 0.9230 - val_loss: 0.8274 - val_recall: 0.3270 - val_accuracy: 0.7860\n",
      "Epoch 6/50\n",
      "1608/1608 [==============================] - 3s 2ms/step - loss: 0.1424 - recall: 0.9965 - accuracy: 0.9390 - val_loss: 0.7979 - val_recall: 0.3235 - val_accuracy: 0.7855\n",
      "Epoch 7/50\n",
      "1608/1608 [==============================] - 3s 2ms/step - loss: 0.1254 - recall: 0.9970 - accuracy: 0.9468 - val_loss: 0.8879 - val_recall: 0.2578 - val_accuracy: 0.8168\n",
      "Epoch 8/50\n",
      "1608/1608 [==============================] - 3s 2ms/step - loss: 0.1082 - recall: 0.9978 - accuracy: 0.9550 - val_loss: 1.0267 - val_recall: 0.3201 - val_accuracy: 0.7756\n",
      "Epoch 9/50\n",
      "1608/1608 [==============================] - 3s 2ms/step - loss: 0.0957 - recall: 0.9975 - accuracy: 0.9602 - val_loss: 1.0109 - val_recall: 0.1903 - val_accuracy: 0.8274\n",
      "Epoch 10/50\n",
      "1608/1608 [==============================] - 3s 2ms/step - loss: 0.0956 - recall: 0.9977 - accuracy: 0.9608 - val_loss: 1.2592 - val_recall: 0.2924 - val_accuracy: 0.7815\n",
      "Epoch 11/50\n",
      "1608/1608 [==============================] - 3s 2ms/step - loss: 0.0862 - recall: 0.9978 - accuracy: 0.9665 - val_loss: 0.8587 - val_recall: 0.2024 - val_accuracy: 0.8348\n",
      "Epoch 12/50\n",
      "1608/1608 [==============================] - 3s 2ms/step - loss: 0.0780 - recall: 0.9979 - accuracy: 0.9689 - val_loss: 0.9555 - val_recall: 0.1938 - val_accuracy: 0.8464\n",
      "Epoch 13/50\n",
      "1608/1608 [==============================] - 3s 2ms/step - loss: 0.0683 - recall: 0.9983 - accuracy: 0.9723 - val_loss: 0.8520 - val_recall: 0.1765 - val_accuracy: 0.8517\n",
      "Epoch 14/50\n",
      "1608/1608 [==============================] - 3s 2ms/step - loss: 0.0725 - recall: 0.9981 - accuracy: 0.9731 - val_loss: 0.9570 - val_recall: 0.1938 - val_accuracy: 0.8292\n",
      "Epoch 15/50\n",
      "1608/1608 [==============================] - 3s 2ms/step - loss: 0.0593 - recall: 0.9982 - accuracy: 0.9754 - val_loss: 0.9138 - val_recall: 0.1990 - val_accuracy: 0.8338\n",
      "Epoch 16/50\n",
      "1608/1608 [==============================] - 3s 2ms/step - loss: 0.0554 - recall: 0.9986 - accuracy: 0.9775 - val_loss: 0.9687 - val_recall: 0.1782 - val_accuracy: 0.8561\n",
      "Epoch 17/50\n",
      "1608/1608 [==============================] - 3s 2ms/step - loss: 0.0462 - recall: 0.9988 - accuracy: 0.9818 - val_loss: 0.7828 - val_recall: 0.2128 - val_accuracy: 0.8314\n",
      "Epoch 18/50\n",
      "1608/1608 [==============================] - 3s 2ms/step - loss: 0.0494 - recall: 0.9986 - accuracy: 0.9812 - val_loss: 1.0661 - val_recall: 0.1159 - val_accuracy: 0.8584\n",
      "Epoch 19/50\n",
      "1608/1608 [==============================] - 3s 2ms/step - loss: 0.0470 - recall: 0.9984 - accuracy: 0.9813 - val_loss: 0.8087 - val_recall: 0.1453 - val_accuracy: 0.8523\n",
      "Epoch 20/50\n",
      "1608/1608 [==============================] - 3s 2ms/step - loss: 0.0398 - recall: 0.9990 - accuracy: 0.9839 - val_loss: 1.0285 - val_recall: 0.1557 - val_accuracy: 0.8538\n",
      "Epoch 21/50\n",
      "1608/1608 [==============================] - 3s 2ms/step - loss: 0.0358 - recall: 0.9993 - accuracy: 0.9865 - val_loss: 1.1332 - val_recall: 0.1574 - val_accuracy: 0.8547\n",
      "Epoch 22/50\n",
      "1608/1608 [==============================] - 3s 2ms/step - loss: 0.0442 - recall: 0.9986 - accuracy: 0.9815 - val_loss: 0.9740 - val_recall: 0.1869 - val_accuracy: 0.8438\n",
      "Epoch 23/50\n",
      "1608/1608 [==============================] - 3s 2ms/step - loss: 0.0264 - recall: 0.9992 - accuracy: 0.9910 - val_loss: 0.9894 - val_recall: 0.1955 - val_accuracy: 0.8367\n",
      "Epoch 24/50\n",
      "1608/1608 [==============================] - 3s 2ms/step - loss: 0.0390 - recall: 0.9984 - accuracy: 0.9853 - val_loss: 0.9233 - val_recall: 0.1903 - val_accuracy: 0.8282\n",
      "Epoch 25/50\n",
      "1608/1608 [==============================] - 3s 2ms/step - loss: 0.0352 - recall: 0.9990 - accuracy: 0.9866 - val_loss: 0.7836 - val_recall: 0.1246 - val_accuracy: 0.8554\n",
      "Epoch 26/50\n",
      "1608/1608 [==============================] - 3s 2ms/step - loss: 0.0270 - recall: 0.9992 - accuracy: 0.9898 - val_loss: 1.0230 - val_recall: 0.1972 - val_accuracy: 0.8390\n",
      "Epoch 27/50\n",
      "1608/1608 [==============================] - 3s 2ms/step - loss: 0.0293 - recall: 0.9992 - accuracy: 0.9885 - val_loss: 1.0289 - val_recall: 0.1471 - val_accuracy: 0.8576\n",
      "Epoch 28/50\n",
      "1608/1608 [==============================] - 3s 2ms/step - loss: 0.0341 - recall: 0.9990 - accuracy: 0.9890 - val_loss: 0.9440 - val_recall: 0.1661 - val_accuracy: 0.8468\n",
      "Epoch 29/50\n",
      "1608/1608 [==============================] - 3s 2ms/step - loss: 0.0319 - recall: 0.9990 - accuracy: 0.9885 - val_loss: 0.8670 - val_recall: 0.1557 - val_accuracy: 0.8564\n",
      "Epoch 30/50\n",
      "1608/1608 [==============================] - 3s 2ms/step - loss: 0.0243 - recall: 0.9992 - accuracy: 0.9910 - val_loss: 0.8333 - val_recall: 0.1488 - val_accuracy: 0.8680\n",
      "Epoch 31/50\n",
      "1608/1608 [==============================] - 3s 2ms/step - loss: 0.0307 - recall: 0.9991 - accuracy: 0.9890 - val_loss: 0.7832 - val_recall: 0.1817 - val_accuracy: 0.8473\n",
      "Epoch 32/50\n",
      "1608/1608 [==============================] - 3s 2ms/step - loss: 0.0220 - recall: 0.9993 - accuracy: 0.9920 - val_loss: 0.8012 - val_recall: 0.1471 - val_accuracy: 0.8668\n",
      "Epoch 33/50\n",
      "1608/1608 [==============================] - 3s 2ms/step - loss: 0.0202 - recall: 0.9993 - accuracy: 0.9932 - val_loss: 1.0744 - val_recall: 0.1436 - val_accuracy: 0.8571\n",
      "Epoch 34/50\n",
      "1608/1608 [==============================] - 3s 2ms/step - loss: 0.0321 - recall: 0.9993 - accuracy: 0.9887 - val_loss: 0.8472 - val_recall: 0.2336 - val_accuracy: 0.8151\n",
      "Epoch 35/50\n",
      "1608/1608 [==============================] - 3s 2ms/step - loss: 0.0358 - recall: 0.9991 - accuracy: 0.9860 - val_loss: 1.0703 - val_recall: 0.1384 - val_accuracy: 0.8630\n",
      "Epoch 36/50\n",
      "1608/1608 [==============================] - 3s 2ms/step - loss: 0.0193 - recall: 0.9991 - accuracy: 0.9927 - val_loss: 1.4367 - val_recall: 0.1626 - val_accuracy: 0.8484\n",
      "Epoch 37/50\n",
      "1608/1608 [==============================] - 3s 2ms/step - loss: 0.0247 - recall: 0.9991 - accuracy: 0.9906 - val_loss: 1.0236 - val_recall: 0.1194 - val_accuracy: 0.8617\n",
      "Epoch 38/50\n",
      "1608/1608 [==============================] - 3s 2ms/step - loss: 0.0101 - recall: 0.9997 - accuracy: 0.9970 - val_loss: 1.1965 - val_recall: 0.1869 - val_accuracy: 0.8299\n",
      "Epoch 39/50\n",
      "1608/1608 [==============================] - 3s 2ms/step - loss: 0.0317 - recall: 0.9991 - accuracy: 0.9898 - val_loss: 1.1838 - val_recall: 0.2007 - val_accuracy: 0.8530\n",
      "Epoch 40/50\n",
      "1608/1608 [==============================] - 3s 2ms/step - loss: 0.0208 - recall: 0.9993 - accuracy: 0.9923 - val_loss: 1.2940 - val_recall: 0.1073 - val_accuracy: 0.8766\n",
      "Epoch 41/50\n",
      "1608/1608 [==============================] - 3s 2ms/step - loss: 0.0231 - recall: 0.9993 - accuracy: 0.9940 - val_loss: 1.0586 - val_recall: 0.1159 - val_accuracy: 0.8709\n",
      "Epoch 42/50\n",
      "1608/1608 [==============================] - 3s 2ms/step - loss: 0.0252 - recall: 0.9992 - accuracy: 0.9906 - val_loss: 1.0564 - val_recall: 0.1938 - val_accuracy: 0.8535\n",
      "Epoch 43/50\n",
      "1608/1608 [==============================] - 3s 2ms/step - loss: 0.0194 - recall: 0.9994 - accuracy: 0.9933 - val_loss: 1.0259 - val_recall: 0.1453 - val_accuracy: 0.8566\n",
      "Epoch 44/50\n",
      "1608/1608 [==============================] - 3s 2ms/step - loss: 0.0256 - recall: 0.9992 - accuracy: 0.9907 - val_loss: 0.9766 - val_recall: 0.1626 - val_accuracy: 0.8616\n",
      "Epoch 45/50\n",
      "1608/1608 [==============================] - 3s 2ms/step - loss: 0.0146 - recall: 0.9996 - accuracy: 0.9945 - val_loss: 1.1406 - val_recall: 0.1505 - val_accuracy: 0.8691\n",
      "Epoch 46/50\n",
      "1608/1608 [==============================] - 3s 2ms/step - loss: 0.0226 - recall: 0.9993 - accuracy: 0.9921 - val_loss: 0.8854 - val_recall: 0.1367 - val_accuracy: 0.8563\n",
      "Epoch 47/50\n",
      "1608/1608 [==============================] - 3s 2ms/step - loss: 0.0146 - recall: 0.9995 - accuracy: 0.9952 - val_loss: 1.3300 - val_recall: 0.1782 - val_accuracy: 0.8422\n",
      "Epoch 48/50\n",
      "1608/1608 [==============================] - 3s 2ms/step - loss: 0.0161 - recall: 0.9994 - accuracy: 0.9944 - val_loss: 1.3892 - val_recall: 0.1765 - val_accuracy: 0.8401\n",
      "Epoch 49/50\n",
      "1608/1608 [==============================] - 3s 2ms/step - loss: 0.0236 - recall: 0.9993 - accuracy: 0.9925 - val_loss: 1.1161 - val_recall: 0.1332 - val_accuracy: 0.8670\n",
      "Epoch 50/50\n",
      "1608/1608 [==============================] - 3s 2ms/step - loss: 0.0146 - recall: 0.9993 - accuracy: 0.9954 - val_loss: 1.0137 - val_recall: 0.1713 - val_accuracy: 0.8483\n",
      "219/219 [==============================] - 0s 831us/step - loss: 1.0137 - recall: 0.1713 - accuracy: 0.8483\n"
     ]
    },
    {
     "data": {
      "text/plain": [
       "[1.0137039422988892, 0.17128027975559235, 0.8482551574707031]"
      ]
     },
     "execution_count": 17,
     "metadata": {},
     "output_type": "execute_result"
    }
   ],
   "source": [
    "# Compile the model with adam optimizer\n",
    "\n",
    "model.compile(optimizer='adam', loss='binary_crossentropy', metrics=['Recall', 'accuracy'])\n",
    "\n",
    "# Train the model with class weights\n",
    "history = model.fit(X_smote_train,y_smote_train, epochs=50, batch_size=32, validation_data=(X_test_scaled, y_test), class_weight=class_weights_dict)\n",
    "\n",
    "# Evaluate the model\n",
    "model.evaluate(X_test_scaled, y_test)"
   ]
  },
  {
   "cell_type": "code",
   "execution_count": 18,
   "id": "d79dc075-13f8-4764-bafd-e92d0d35f9cb",
   "metadata": {},
   "outputs": [
    {
     "name": "stdout",
     "output_type": "stream",
     "text": [
      "Epoch 1/20\n",
      "1608/1608 [==============================] - 3s 2ms/step - loss: 0.7561 - recall: 0.9906 - accuracy: 0.6447 - val_loss: 2.3377 - val_recall: 1.0000 - val_accuracy: 0.0827 - lr: 0.0100\n",
      "Epoch 2/20\n",
      "1608/1608 [==============================] - 2s 1ms/step - loss: 0.9465 - recall: 1.0000 - accuracy: 0.5000 - val_loss: 2.3088 - val_recall: 1.0000 - val_accuracy: 0.0827 - lr: 0.0100\n",
      "Epoch 3/20\n",
      "1608/1608 [==============================] - 2s 1ms/step - loss: 0.9466 - recall: 1.0000 - accuracy: 0.5000 - val_loss: 2.3324 - val_recall: 1.0000 - val_accuracy: 0.0827 - lr: 0.0100\n",
      "Epoch 4/20\n",
      "1608/1608 [==============================] - 2s 1ms/step - loss: 0.9466 - recall: 1.0000 - accuracy: 0.5000 - val_loss: 2.2832 - val_recall: 1.0000 - val_accuracy: 0.0827 - lr: 0.0100\n",
      "Epoch 5/20\n",
      "1608/1608 [==============================] - 2s 1ms/step - loss: 0.9465 - recall: 1.0000 - accuracy: 0.5000 - val_loss: 2.3308 - val_recall: 1.0000 - val_accuracy: 0.0827 - lr: 0.0100\n",
      "Epoch 6/20\n",
      "1608/1608 [==============================] - 2s 1ms/step - loss: 0.9466 - recall: 1.0000 - accuracy: 0.5000 - val_loss: 2.3277 - val_recall: 1.0000 - val_accuracy: 0.0827 - lr: 0.0100\n",
      "Epoch 7/20\n",
      "1608/1608 [==============================] - 2s 2ms/step - loss: 0.9465 - recall: 1.0000 - accuracy: 0.5000 - val_loss: 2.2595 - val_recall: 1.0000 - val_accuracy: 0.0827 - lr: 0.0100\n",
      "Epoch 8/20\n",
      "1608/1608 [==============================] - 2s 1ms/step - loss: 0.9466 - recall: 1.0000 - accuracy: 0.5000 - val_loss: 2.3548 - val_recall: 1.0000 - val_accuracy: 0.0827 - lr: 0.0100\n",
      "Epoch 9/20\n",
      "1608/1608 [==============================] - 2s 1ms/step - loss: 0.9465 - recall: 1.0000 - accuracy: 0.5000 - val_loss: 2.3205 - val_recall: 1.0000 - val_accuracy: 0.0827 - lr: 0.0100\n",
      "Epoch 10/20\n",
      "1608/1608 [==============================] - 2s 1ms/step - loss: 0.9465 - recall: 1.0000 - accuracy: 0.5000 - val_loss: 2.3194 - val_recall: 1.0000 - val_accuracy: 0.0827 - lr: 0.0100\n",
      "Epoch 11/20\n",
      "1608/1608 [==============================] - 2s 1ms/step - loss: 0.9465 - recall: 1.0000 - accuracy: 0.5000 - val_loss: 2.2863 - val_recall: 1.0000 - val_accuracy: 0.0827 - lr: 0.0100\n",
      "Epoch 12/20\n",
      "1608/1608 [==============================] - 2s 1ms/step - loss: 0.9465 - recall: 1.0000 - accuracy: 0.5000 - val_loss: 2.3142 - val_recall: 1.0000 - val_accuracy: 0.0827 - lr: 0.0100\n",
      "219/219 [==============================] - 0s 872us/step - loss: 2.2595 - recall: 1.0000 - accuracy: 0.0827\n"
     ]
    },
    {
     "data": {
      "text/plain": [
       "[2.25945782661438, 1.0, 0.08266590535640717]"
      ]
     },
     "execution_count": 18,
     "metadata": {},
     "output_type": "execute_result"
    }
   ],
   "source": [
    "# Compile the model with the SGD optimizer\n",
    "\n",
    "sgd_optimizer = SGD(learning_rate=0.01, momentum=0.9)\n",
    "model.compile(optimizer=sgd_optimizer, loss='binary_crossentropy', metrics=['Recall' ,'accuracy'])  # Ensure metrics are in a list\n",
    "\n",
    "# Fit the model with callbacks\n",
    "history = model.fit(X_smote_train,y_smote_train,epochs=20,batch_size=32,validation_data=(X_test_scaled, y_test),callbacks=[early_stopping,reduce_lr],class_weight=class_weights_dict)\n",
    "\n",
    "# Evaluate the model\n",
    "model.evaluate(X_test_scaled, y_test)"
   ]
  },
  {
   "cell_type": "code",
   "execution_count": 19,
   "id": "41733aae-9c1e-4244-ab01-2939a546ae82",
   "metadata": {},
   "outputs": [
    {
     "name": "stdout",
     "output_type": "stream",
     "text": [
      "219/219 [==============================] - 0s 857us/step - loss: 2.2595 - recall: 1.0000 - accuracy: 0.0827\n",
      "Sensitivity (Recall) for Neural Network: 1.0000\n",
      "Accuracy for Neural Network: 0.0827\n"
     ]
    }
   ],
   "source": [
    "# Evaluate the model\n",
    "loss, recall ,accuracy = model.evaluate(X_test_scaled, y_test)\n",
    "print(f'Sensitivity (Recall) for Neural Network: {recall:.4f}')\n",
    "print(f'Accuracy for Neural Network: {accuracy:.4f}')"
   ]
  },
  {
   "cell_type": "code",
   "execution_count": 20,
   "id": "69f371a7-09ff-448f-8b2c-bb0f03db0217",
   "metadata": {},
   "outputs": [
    {
     "name": "stdout",
     "output_type": "stream",
     "text": [
      "Model: \"sequential\"\n",
      "_________________________________________________________________\n",
      " Layer (type)                Output Shape              Param #   \n",
      "=================================================================\n",
      " dense (Dense)               (None, 256)               62208     \n",
      "                                                                 \n",
      " dense_1 (Dense)             (None, 128)               32896     \n",
      "                                                                 \n",
      " dense_2 (Dense)             (None, 64)                8256      \n",
      "                                                                 \n",
      " dense_3 (Dense)             (None, 32)                2080      \n",
      "                                                                 \n",
      " dense_4 (Dense)             (None, 16)                528       \n",
      "                                                                 \n",
      " dense_5 (Dense)             (None, 1)                 17        \n",
      "                                                                 \n",
      "=================================================================\n",
      "Total params: 105985 (414.00 KB)\n",
      "Trainable params: 105985 (414.00 KB)\n",
      "Non-trainable params: 0 (0.00 Byte)\n",
      "_________________________________________________________________\n"
     ]
    }
   ],
   "source": [
    "model.summary()"
   ]
  },
  {
   "cell_type": "code",
   "execution_count": 21,
   "id": "776e2275-0a33-4041-86b7-41ac000a3288",
   "metadata": {},
   "outputs": [
    {
     "name": "stdout",
     "output_type": "stream",
     "text": [
      "219/219 [==============================] - 0s 710us/step\n"
     ]
    },
    {
     "data": {
      "text/plain": [
       "0.9173340961098398"
      ]
     },
     "execution_count": 21,
     "metadata": {},
     "output_type": "execute_result"
    }
   ],
   "source": [
    "from sklearn.metrics import accuracy_score\n",
    "y_pred = model.predict(X_test_scaled)\n",
    "y_pred = y_pred.argmax(axis=-1)\n",
    "accuracy_score(y_test,y_pred)"
   ]
  },
  {
   "cell_type": "code",
   "execution_count": 22,
   "id": "7297cd7c-7126-489c-aeb4-787a80977688",
   "metadata": {},
   "outputs": [
    {
     "data": {
      "image/png": "[encoded data removed]",
      "text/plain": [
       "<Figure size 432x288 with 1 Axes>"
      ]
     },
     "metadata": {
      "needs_background": "light"
     },
     "output_type": "display_data"
    }
   ],
   "source": [
    "import matplotlib.pyplot as plt\n",
    "plt.plot(history.history['recall'])\n",
    "plt.plot(history.history['val_recall'])\n",
    "plt.show()"
   ]
  },
  {
   "cell_type": "code",
   "execution_count": 23,
   "id": "6b3b3ea6-4669-468b-b447-e579c936ae4f",
   "metadata": {},
   "outputs": [
    {
     "data": {
      "image/png": "[encoded data removed]",
      "text/plain": [
       "<Figure size 432x288 with 1 Axes>"
      ]
     },
     "metadata": {
      "needs_background": "light"
     },
     "output_type": "display_data"
    }
   ],
   "source": [
    "import matplotlib.pyplot as plt\n",
    "plt.plot(history.history['loss'])\n",
    "plt.plot(history.history['val_loss'])\n",
    "plt.show()"
   ]
  },
  {
   "cell_type": "code",
   "execution_count": 24,
   "id": "517bc647-8d45-48f6-bb99-0bc520d02b9c",
   "metadata": {},
   "outputs": [
    {
     "data": {
      "image/png": "[encoded data removed]",
      "text/plain": [
       "<Figure size 432x288 with 1 Axes>"
      ]
     },
     "metadata": {
      "needs_background": "light"
     },
     "output_type": "display_data"
    }
   ],
   "source": [
    "import matplotlib.pyplot as plt\n",
    "plt.plot(history.history['accuracy'])\n",
    "plt.plot(history.history['val_accuracy'])\n",
    "plt.show()"
   ]
  },
  {
   "cell_type": "markdown",
   "id": "29f16bc3-899b-4325-83d4-e41e67770b04",
   "metadata": {},
   "source": [
    "<h3>8)\n",
    "Calculate the area under the receiver operating characteristics curve<h3>"
   ]
  },
  {
   "cell_type": "code",
   "execution_count": 25,
   "id": "d952cf11-ed0d-4fd9-958d-a710c4aecf95",
   "metadata": {},
   "outputs": [
    {
     "name": "stdout",
     "output_type": "stream",
     "text": [
      "219/219 [==============================] - 0s 656us/step\n",
      "AUC-ROC Score: 0.5000\n"
     ]
    },
    {
     "data": {
      "image/png": "[encoded data removed]",
      "text/plain": [
       "<Figure size 576x432 with 1 Axes>"
      ]
     },
     "metadata": {
      "needs_background": "light"
     },
     "output_type": "display_data"
    }
   ],
   "source": [
    "from sklearn.metrics import roc_auc_score, roc_curve\n",
    "import matplotlib.pyplot as plt\n",
    "\n",
    "# 1. Get predicted probabilities from the model for the test set\n",
    "y_pred_proba = model.predict(X_test_scaled)  # Predict probabilities\n",
    "y_pred_proba = y_pred_proba.ravel()  # Flatten the array if necessary\n",
    "\n",
    "# 2. Calculate the AUC-ROC score\n",
    "auc_roc = roc_auc_score(y_test, y_pred_proba)\n",
    "print(f\"AUC-ROC Score: {auc_roc:.4f}\")\n",
    "\n",
    "# 3. Calculate ROC curve\n",
    "fpr, tpr, thresholds = roc_curve(y_test, y_pred_proba)\n",
    "\n",
    "# 4. Plot ROC curve\n",
    "plt.figure(figsize=(8, 6))\n",
    "plt.plot(fpr, tpr, label=f\"AUC = {auc_roc:.4f}\")\n",
    "plt.plot([0, 1], [0, 1], 'k--')  # Diagonal line for random guessing\n",
    "plt.xlim([0.0, 1.0])\n",
    "plt.ylim([0.0, 1.05])\n",
    "plt.xlabel('False Positive Rate (FPR)')\n",
    "plt.ylabel('True Positive Rate (TPR)')\n",
    "plt.title('Receiver Operating Characteristic (ROC) Curve')\n",
    "plt.legend(loc=\"lower right\")\n",
    "plt.show()"
   ]
  },
  {
   "cell_type": "code",
   "execution_count": null,
   "id": "cada8070-6285-408f-819c-be74e17abf09",
   "metadata": {},
   "outputs": [],
   "source": []
  }
 ],
 "metadata": {
  "kernelspec": {
   "display_name": "Python 3 [3.10]",
   "language": "python",
   "name": "python3"
  },
  "language_info": {
   "codemirror_mode": {
    "name": "ipython",
    "version": 3
   },
   "file_extension": ".py",
   "mimetype": "text/x-python",
   "name": "python",
   "nbconvert_exporter": "python",
   "pygments_lexer": "ipython3",
   "version": "3.10.2"
  }
 },
 "nbformat": 4,
 "nbformat_minor": 5
}
